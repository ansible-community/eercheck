{
 "cells": [
  {
   "cell_type": "code",
   "execution_count": 41,
   "id": "84647e04-62fa-4d42-b473-82ac78362684",
   "metadata": {},
   "outputs": [],
   "source": [
    "import json\n",
    "from podman import PodmanClient\n",
    "import podman\n",
    "import unittest\n",
    "import re\n",
    "import os\n",
    "import sys\n",
    "\n"
   ]
  },
  {
   "cell_type": "code",
   "execution_count": 37,
   "id": "bb2f4211-e94f-4d55-a92f-064fe8df1015",
   "metadata": {},
   "outputs": [
    {
     "name": "stdout",
     "output_type": "stream",
     "text": [
      "Found running conatainer, stopping and removing it.\n",
      "\u0002\u0000\u0000\u0000\u0000\u0000\u0000\u0001.\u0002\u0000\u0000\u0000\u0000\u0000\u0000\u0001.\u0002\u0000\u0000\u0000\u0000\u0000\u0000\u0001.\u0002\u0000\u0000\u0000\u0000\u0000\u0000\u0001.\u0002\u0000\u0000\u0000\u0000\u0000\u0000\u0001\n",
      "\u0002\u0000\u0000\u0000\u0000\u0000\u0000G----------------------------------------------------------------------\n",
      "\u0002\u0000\u0000\u0000\u0000\u0000\u0000\u0016Ran 4 tests in 0.425s\n",
      "\u0002\u0000\u0000\u0000\u0000\u0000\u0000\u0001\n",
      "\u0002\u0000\u0000\u0000\u0000\u0000\u0000\u0003OK\n",
      "\n"
     ]
    }
   ],
   "source": [
    "uri = \"unix:///run/user/1000/podman/podman.sock\"\n",
    "volume = [{\"type\": \"bind\", \"source\": \"/home/adas/code/redhat/eercheck/alltests.py\" ,\"target\": \"/runner/alltests.py\", \"relabel\": \"Z\"}, {\"type\": \"bind\", \"source\": \"/home/adas/code/redhat/eercheck/vars.json\" ,\"target\": \"/runner/vars.json\", \"relabel\": \"Z\"}]\n",
    "\n",
    "with PodmanClient(base_url=uri) as client:\n",
    "    # find if any container exists  then delete \n",
    "  \n",
    "    containers = client.containers.list(all=True,filters={\"name\":\"testrun\"})\n",
    "    if len(containers)==1:\n",
    "        print(f\"Found running conatainer, stopping and removing it.\")\n",
    "        c = containers[0]\n",
    "        c.stop(ignore=True, timeout=1)\n",
    "        c.remove()\n",
    "    \n",
    "    image = client.images.get(\"2cf8285eaa56\")\n",
    "    container = client.containers.run(image, \"/usr/bin/bash\", name='testrun', detach=True, tty=True, mounts=volume,remove=True, environment={\"IMAGENAME\":\"base\"})\n",
    "    code,output = container.exec_run(\"/usr/bin/python3 /runner/alltests.py\")\n",
    "    \n",
    "    print(output.decode(\"utf-8\",errors=\"ignore\"))\n"
   ]
  },
  {
   "cell_type": "code",
   "execution_count": 45,
   "id": "3e92cf1e-4032-418e-b76c-e37a2e32dd98",
   "metadata": {},
   "outputs": [
    {
     "name": "stdout",
     "output_type": "stream",
     "text": [
      "Starting container image ghcr.io/ansible-community/community-ee-base:latest.\n"
     ]
    }
   ],
   "source": [
    "uri = \"unix:///run/user/1000/podman/podman.sock\"\n",
    "volume = [{\"type\": \"bind\", \"source\": \"/home/adas/code/redhat/eercheck/alltests.py\" ,\"target\": \"/runner/alltests.py\", \"relabel\": \"Z\"}, {\"type\": \"bind\", \"source\": \"/home/adas/code/redhat/eercheck/vars.json\" ,\"target\": \"/runner/vars.json\", \"relabel\": \"Z\"}]\n",
    "\n",
    "with PodmanClient(base_url=uri) as client:\n",
    "    # find if any container exists  then delete \n",
    "  \n",
    "    image = client.images.get(\"2cf8285eaa56\")\n",
    "    \n",
    "    print(f\"Starting container image {image.tags[0]}.\")"
   ]
  },
  {
   "cell_type": "code",
   "execution_count": 51,
   "id": "c4794bd0-1ae4-4693-8def-851d99b0f8b5",
   "metadata": {},
   "outputs": [
    {
     "ename": "TypeError",
     "evalue": "dirname() missing 1 required positional argument: 'p'",
     "output_type": "error",
     "traceback": [
      "\u001b[0;31m---------------------------------------------------------------------------\u001b[0m",
      "\u001b[0;31mTypeError\u001b[0m                                 Traceback (most recent call last)",
      "Cell \u001b[0;32mIn[51], line 3\u001b[0m\n\u001b[1;32m      1\u001b[0m \u001b[38;5;28;01mimport\u001b[39;00m \u001b[38;5;21;01msys\u001b[39;00m \n\u001b[0;32m----> 3\u001b[0m \u001b[38;5;28mdir\u001b[39m \u001b[38;5;241m=\u001b[39m \u001b[43mos\u001b[49m\u001b[38;5;241;43m.\u001b[39;49m\u001b[43mpath\u001b[49m\u001b[38;5;241;43m.\u001b[39;49m\u001b[43mdirname\u001b[49m\u001b[43m(\u001b[49m\u001b[43m)\u001b[49m\n\u001b[1;32m      4\u001b[0m \u001b[38;5;28mprint\u001b[39m(\u001b[38;5;28mdir\u001b[39m)\n",
      "\u001b[0;31mTypeError\u001b[0m: dirname() missing 1 required positional argument: 'p'"
     ]
    }
   ],
   "source": [
    "import sys \n",
    "\n",
    "sys.arvg\n",
    "`./containertest.py` = sys.argv[0] \n",
    "\n",
    "\n"
   ]
  },
  {
   "cell_type": "code",
   "execution_count": null,
   "id": "f9651d6d-a47a-439a-b969-a7ea2b71355e",
   "metadata": {},
   "outputs": [],
   "source": [
    "uri = \"unix:///run/user/1000/podman/podman.sock\"\n",
    "volume = [{\"type\": \"bind\", \"source\": \"/home/adas/code/redhat/eercheck/alltests.py\" ,\"target\": \"/runner/alltests.py\", \"relabel\": \"Z\"}, {\"type\": \"bind\", \"source\": \"/home/adas/code/redhat/eercheck/vars.json\" ,\"target\": \"/runner/vars.json\", \"relabel\": \"Z\"}]\n",
    "\n",
    "with PodmanClient(base_url=uri) as client:\n",
    "    # find if any container exists  then delete \n",
    "  \n",
    "    containers = client.containers.list(all=True,filters={\"name\":\"testrun\"})\n",
    "    if len(containers)==1:\n",
    "        print(f\"Found running conatainer, stopping and removing it.\")\n",
    "        c = containers[0]\n",
    "        c.stop(ignore=True, timeout=1)\n",
    "        c.remove()\n",
    "    \n",
    "    image = client.images.get(\"2cf8285eaa56\")\n",
    "    image_tag = client.images\n",
    "    print(images."
   ]
  },
  {
   "cell_type": "code",
   "execution_count": 17,
   "id": "b8b48c2d-2268-4b9e-b438-d74a37a2bc3a",
   "metadata": {},
   "outputs": [
    {
     "name": "stdout",
     "output_type": "stream",
     "text": [
      "(1, b'\\x02\\x00\\x00\\x00\\x00\\x00\\x00\\x01F\\x02\\x00\\x00\\x00\\x00\\x00\\x00\\x01.\\x02\\x00\\x00\\x00\\x00\\x00\\x00\\x01F\\x02\\x00\\x00\\x00\\x00\\x00\\x00\\x01.\\x02\\x00\\x00\\x00\\x00\\x00\\x06\\x93\\n======================================================================\\nFAIL: test_ansible_version (__main__.eertest.test_ansible_version)\\nTests the bash version as the same of upstream\\n----------------------------------------------------------------------\\nTraceback (most recent call last):\\n  File \"/runner/first.py\", line 43, in test_ansible_version\\n    self.assertIn(f\"ansible [core {data[\\'ansible-core-version\\']}\", out)\\nAssertionError: \\'ansible [core 2.16.1\\' not found in \"ansible [core 2.15.7]\\\\n  config file = None\\\\n  configured module search path = [\\'/root/.ansible/plugins/modules\\', \\'/usr/share/ansible/plugins/modules\\']\\\\n  ansible python module location = /usr/local/lib/python3.12/site-packages/ansible\\\\n  ansible collection location = /root/.ansible/collections:/usr/share/ansible/collections\\\\n  executable location = /usr/local/bin/ansible\\\\n  python version = 3.12.0 (main, Oct  2 2023, 00:00:00) [GCC 13.2.1 20230918 (Red Hat 13.2.1-3)] (/usr/bin/python3)\\\\n  jinja version = 3.1.2\\\\n  libyaml = True\\\\n\"\\n\\n======================================================================\\nFAIL: test_collection_version (__main__.eertest.test_collection_version)\\nTests the coleections version as the same of upstream\\n----------------------------------------------------------------------\\nTraceback (most recent call last):\\n  File \"/runner/first.py\", line 50, in test_collection_version\\n    self.assertIn(f\"ansible.posix {data[\\'ansible.posix\\']}\", out)\\nAssertionError: \\'ansible.posix 1.5.4\\' not found in \\'\\\\n# /usr/share/ansible/collections/ansible_collections\\\\nCollection      Version\\\\n--------------- -------\\\\nansible.posix   1.5.4  \\\\nansible.utils   2.12.0 \\\\nansible.windows 1.14.0 \\\\n\\'\\n\\x02\\x00\\x00\\x00\\x00\\x00\\x00H\\n----------------------------------------------------------------------\\n\\x02\\x00\\x00\\x00\\x00\\x00\\x00\\x17Ran 4 tests in 0.485s\\n\\n\\x02\\x00\\x00\\x00\\x00\\x00\\x00\\x14FAILED (failures=2)\\n')\n"
     ]
    }
   ],
   "source": [
    "with PodmanClient(base_url=uri) as client:\n",
    "    output = container.exec_run(\"/usr/bin/python3 /runner/alltests.py\")\n",
    "    print(output)"
   ]
  },
  {
   "cell_type": "code",
   "execution_count": 31,
   "id": "85582ef6-43d3-402a-bf2a-9008915bfb12",
   "metadata": {},
   "outputs": [],
   "source": [
    "# Read unit test cases (pym)\n",
    "# https://github.com/kushaldas/tunirtests/blob/master/testutils.py#L3\n",
    "# https://github.com/kushaldas/tunirtests/blob/master/nongatingtests.py#L7"
   ]
  },
  {
   "cell_type": "code",
   "execution_count": 6,
   "id": "6c950163-c85f-4952-9905-281b8acd0040",
   "metadata": {},
   "outputs": [
    {
     "data": {
      "text/plain": [
       "str"
      ]
     },
     "execution_count": 6,
     "metadata": {},
     "output_type": "execute_result"
    }
   ],
   "source": [
    "import json\n",
    "\n",
    "# Python to json\n",
    "\n",
    "json.dumps(['foo', {'bar': ('baz', None, 1.0, 2)}])\n",
    "type(json.dumps(\"\\\"foo\\bar\"))"
   ]
  },
  {
   "cell_type": "code",
   "execution_count": 10,
   "id": "ce08e103-b156-4028-aad6-c25d13579fa4",
   "metadata": {},
   "outputs": [
    {
     "name": "stdout",
     "output_type": "stream",
     "text": [
      "{\n",
      "    \"name\": \"Py\",\n",
      "    \"age\": 40,\n",
      "    \"mum\": \"babi\"\n",
      "}\n"
     ]
    }
   ],
   "source": [
    "var = {\"name\":\"Py\", \"age\":40, \"mum\": \"babi\"}\n",
    "s = json.dumps(var, indent=4)\n",
    "print(s)"
   ]
  },
  {
   "cell_type": "code",
   "execution_count": 11,
   "id": "faaebc35-a77b-43ee-81c3-13559650220b",
   "metadata": {},
   "outputs": [
    {
     "name": "stdout",
     "output_type": "stream",
     "text": [
      "{'name': 'Py', 'age': 40, 'mum': 'babi'}\n"
     ]
    },
    {
     "data": {
      "text/plain": [
       "dict"
      ]
     },
     "execution_count": 11,
     "metadata": {},
     "output_type": "execute_result"
    }
   ],
   "source": [
    "sp = json.loads(s)\n",
    "print(sp)\n",
    "type(sp)"
   ]
  },
  {
   "cell_type": "code",
   "execution_count": 16,
   "id": "ee209f6e-6a2e-4425-9abd-6a5ab86e9084",
   "metadata": {},
   "outputs": [
    {
     "name": "stdout",
     "output_type": "stream",
     "text": [
      "{\n",
      "    \"ansible-core-version\": \"2.16\",\n",
      "    \"fedora-version\": \"39\",\n",
      "    \"ansible.posix\": \"1.5.4\",\n",
      "    \"ansible.utils\": \"2.11.0\",\n",
      "    \"ansible.windows\": \"2.1.0\"\n",
      "}\n"
     ]
    }
   ],
   "source": [
    "vars = {\"ansible-core-version\":\"2.16\", \"fedora-version\": \"39\",\"ansible.posix\": \"1.5.4\", \"ansible.utils\": \"2.11.0\", \"ansible.windows\": \"2.1.0\"}\n",
    "s = json.dumps(vars, indent=4)\n",
    "print(s)\n"
   ]
  },
  {
   "cell_type": "code",
   "execution_count": 30,
   "id": "3e0e8c42-57d7-44fb-800f-582f88dc4280",
   "metadata": {},
   "outputs": [
    {
     "name": "stdout",
     "output_type": "stream",
     "text": [
      "Version is 2.16\n"
     ]
    }
   ],
   "source": [
    "data = {\"ansible-core-version\":\"2.16\", \"fedora-version\": \"39\",\"ansible.posix\": \"1.5.4\", \"ansible.utils\": \"2.11.0\", \"ansible.windows\": \"2.1.0\"}\n",
    "print(f\"Version is {data[\"ansible-core-version\"]}\")\n"
   ]
  },
  {
   "cell_type": "code",
   "execution_count": null,
   "id": "fb3301eb-c636-4eda-93b6-8a33a33e859f",
   "metadata": {},
   "outputs": [],
   "source": [
    "        out, err, eid = system('ansible-galaxy collection list')\n",
    "        out = out.decode('utf-8')\n",
    "        print(out)"
   ]
  },
  {
   "cell_type": "code",
   "execution_count": 32,
   "id": "5a82bdb3-a1cc-4c1e-a7fe-a0ddbf369ebc",
   "metadata": {},
   "outputs": [
    {
     "name": "stdout",
     "output_type": "stream",
     "text": [
      "yes\n"
     ]
    }
   ],
   "source": [
    "import os\n",
    "\n",
    "data = \"/home/adas/go\"\n",
    "if os.environ.get('GOPATH')==data:\n",
    "    print(\"yes\")\n",
    "else:\n",
    "    print(\"no\")"
   ]
  },
  {
   "cell_type": "code",
   "execution_count": null,
   "id": "34dda0f2-979f-4cc6-8ebd-a1bcf6d687a7",
   "metadata": {},
   "outputs": [],
   "source": []
  },
  {
   "cell_type": "code",
   "execution_count": 16,
   "id": "40251260-1a58-485b-b999-bdd195ae5760",
   "metadata": {},
   "outputs": [
    {
     "name": "stdout",
     "output_type": "stream",
     "text": [
      "{\n",
      "    \"ansible-core-version\": \"2.16\",\n",
      "    \"fedora-version\": \"39\",\n",
      "    \"ansible.posix\": \"1.5.4\",\n",
      "    \"ansible.utils\": \"2.11.0\",\n",
      "    \"ansible.windows\": \"2.1.0\"\n",
      "}\n"
     ]
    }
   ],
   "source": [
    "vars = {\"ansible-core-version\":\"2.16\", \"fedora-version\": \"39\",\"ansible.posix\": \"1.5.4\", \"ansible.utils\": \"2.11.0\", \"ansible.windows\": \"2.1.0\"}\n",
    "s = json.dumps(vars, indent=4)\n",
    "print(s)\n",
    "\n",
    "if \"ansible."
   ]
  }
 ],
 "metadata": {
  "kernelspec": {
   "display_name": "Python 3 (ipykernel)",
   "language": "python",
   "name": "python3"
  },
  "language_info": {
   "codemirror_mode": {
    "name": "ipython",
    "version": 3
   },
   "file_extension": ".py",
   "mimetype": "text/x-python",
   "name": "python",
   "nbconvert_exporter": "python",
   "pygments_lexer": "ipython3",
   "version": "3.12.0"
  }
 },
 "nbformat": 4,
 "nbformat_minor": 5
}
